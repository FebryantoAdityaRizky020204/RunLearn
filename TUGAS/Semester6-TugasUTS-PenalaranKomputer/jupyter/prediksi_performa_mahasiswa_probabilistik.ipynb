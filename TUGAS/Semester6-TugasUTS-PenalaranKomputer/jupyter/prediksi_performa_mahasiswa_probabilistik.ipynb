{
 "cells": [
  {
   "cell_type": "markdown",
   "id": "7fa70ba7",
   "metadata": {},
   "source": [
    "# 🎓 Prediksi Performa Mahasiswa Berbasis Probabilistic Reasoning\n",
    "Notebook ini menggunakan berbagai model probabilistik untuk memprediksi GPA dan GradeClass mahasiswa."
   ]
  },
  {
   "cell_type": "code",
   "execution_count": null,
   "id": "dc6a725c",
   "metadata": {},
   "outputs": [
    {
     "name": "stdout",
     "output_type": "stream",
     "text": [
      "Requirement already satisfied: pandas in f:\\laragon\\bin\\python\\python-3.12.2\\lib\\site-packages (2.2.3)\n",
      "Requirement already satisfied: numpy in f:\\laragon\\bin\\python\\python-3.12.2\\lib\\site-packages (1.26.4)\n",
      "Requirement already satisfied: matplotlib in f:\\laragon\\bin\\python\\python-3.12.2\\lib\\site-packages (3.10.1)\n",
      "Requirement already satisfied: seaborn in f:\\laragon\\bin\\python\\python-3.12.2\\lib\\site-packages (0.13.2)\n",
      "Requirement already satisfied: scikit-learn in f:\\laragon\\bin\\python\\python-3.12.2\\lib\\site-packages (1.6.1)\n",
      "Requirement already satisfied: pgmpy in f:\\laragon\\bin\\python\\python-3.12.2\\lib\\site-packages (1.0.0)\n",
      "Collecting pomegranate\n",
      "  Downloading pomegranate-1.1.2-py3-none-any.whl.metadata (566 bytes)\n",
      "Collecting hmmlearn\n",
      "  Downloading hmmlearn-0.3.3-cp312-cp312-win_amd64.whl.metadata (3.1 kB)\n",
      "Requirement already satisfied: networkx in f:\\laragon\\bin\\python\\python-3.12.2\\lib\\site-packages (3.4.2)\n",
      "Requirement already satisfied: python-dateutil>=2.8.2 in c:\\users\\acer\\appdata\\roaming\\python\\python312\\site-packages (from pandas) (2.9.0.post0)\n",
      "Requirement already satisfied: pytz>=2020.1 in f:\\laragon\\bin\\python\\python-3.12.2\\lib\\site-packages (from pandas) (2024.2)\n",
      "Requirement already satisfied: tzdata>=2022.7 in f:\\laragon\\bin\\python\\python-3.12.2\\lib\\site-packages (from pandas) (2024.2)\n",
      "Requirement already satisfied: contourpy>=1.0.1 in f:\\laragon\\bin\\python\\python-3.12.2\\lib\\site-packages (from matplotlib) (1.3.1)\n",
      "Requirement already satisfied: cycler>=0.10 in f:\\laragon\\bin\\python\\python-3.12.2\\lib\\site-packages (from matplotlib) (0.12.1)\n",
      "Requirement already satisfied: fonttools>=4.22.0 in f:\\laragon\\bin\\python\\python-3.12.2\\lib\\site-packages (from matplotlib) (4.56.0)\n",
      "Requirement already satisfied: kiwisolver>=1.3.1 in f:\\laragon\\bin\\python\\python-3.12.2\\lib\\site-packages (from matplotlib) (1.4.8)\n",
      "Requirement already satisfied: packaging>=20.0 in c:\\users\\acer\\appdata\\roaming\\python\\python312\\site-packages (from matplotlib) (24.0)\n",
      "Requirement already satisfied: pillow>=8 in f:\\laragon\\bin\\python\\python-3.12.2\\lib\\site-packages (from matplotlib) (10.2.0)\n",
      "Requirement already satisfied: pyparsing>=2.3.1 in f:\\laragon\\bin\\python\\python-3.12.2\\lib\\site-packages (from matplotlib) (3.2.3)\n",
      "Requirement already satisfied: scipy>=1.6.0 in f:\\laragon\\bin\\python\\python-3.12.2\\lib\\site-packages (from scikit-learn) (1.15.2)\n",
      "Requirement already satisfied: joblib>=1.2.0 in f:\\laragon\\bin\\python\\python-3.12.2\\lib\\site-packages (from scikit-learn) (1.4.2)\n",
      "Requirement already satisfied: threadpoolctl>=3.1.0 in f:\\laragon\\bin\\python\\python-3.12.2\\lib\\site-packages (from scikit-learn) (3.6.0)\n",
      "Requirement already satisfied: torch in f:\\laragon\\bin\\python\\python-3.12.2\\lib\\site-packages (from pgmpy) (2.5.1)\n",
      "Requirement already satisfied: statsmodels in f:\\laragon\\bin\\python\\python-3.12.2\\lib\\site-packages (from pgmpy) (0.14.4)\n",
      "Requirement already satisfied: tqdm in f:\\laragon\\bin\\python\\python-3.12.2\\lib\\site-packages (from pgmpy) (4.66.6)\n",
      "Requirement already satisfied: opt-einsum in f:\\laragon\\bin\\python\\python-3.12.2\\lib\\site-packages (from pgmpy) (3.4.0)\n",
      "Requirement already satisfied: pyro-ppl in f:\\laragon\\bin\\python\\python-3.12.2\\lib\\site-packages (from pgmpy) (1.9.1)\n",
      "Collecting apricot-select>=0.6.1 (from pomegranate)\n",
      "  Downloading apricot-select-0.6.1.tar.gz (28 kB)\n",
      "  Preparing metadata (setup.py): started\n",
      "  Preparing metadata (setup.py): finished with status 'done'\n",
      "Collecting numba>=0.43.0 (from apricot-select>=0.6.1->pomegranate)\n",
      "  Downloading numba-0.61.2-cp312-cp312-win_amd64.whl.metadata (2.9 kB)\n",
      "Collecting nose (from apricot-select>=0.6.1->pomegranate)\n",
      "  Downloading nose-1.3.7-py3-none-any.whl.metadata (1.7 kB)\n",
      "Requirement already satisfied: six>=1.5 in c:\\users\\acer\\appdata\\roaming\\python\\python312\\site-packages (from python-dateutil>=2.8.2->pandas) (1.16.0)\n",
      "Requirement already satisfied: filelock in f:\\laragon\\bin\\python\\python-3.12.2\\lib\\site-packages (from torch->pgmpy) (3.16.1)\n",
      "Requirement already satisfied: typing-extensions>=4.8.0 in f:\\laragon\\bin\\python\\python-3.12.2\\lib\\site-packages (from torch->pgmpy) (4.12.2)\n",
      "Requirement already satisfied: jinja2 in f:\\laragon\\bin\\python\\python-3.12.2\\lib\\site-packages (from torch->pgmpy) (3.1.3)\n",
      "Requirement already satisfied: fsspec in f:\\laragon\\bin\\python\\python-3.12.2\\lib\\site-packages (from torch->pgmpy) (2024.10.0)\n",
      "Requirement already satisfied: setuptools in f:\\laragon\\bin\\python\\python-3.12.2\\lib\\site-packages (from torch->pgmpy) (69.2.0)\n",
      "Requirement already satisfied: sympy==1.13.1 in f:\\laragon\\bin\\python\\python-3.12.2\\lib\\site-packages (from torch->pgmpy) (1.13.1)\n",
      "Requirement already satisfied: mpmath<1.4,>=1.1.0 in f:\\laragon\\bin\\python\\python-3.12.2\\lib\\site-packages (from sympy==1.13.1->torch->pgmpy) (1.3.0)\n",
      "Requirement already satisfied: colorama in c:\\users\\acer\\appdata\\roaming\\python\\python312\\site-packages (from tqdm->pgmpy) (0.4.6)\n",
      "Requirement already satisfied: pyro-api>=0.1.1 in f:\\laragon\\bin\\python\\python-3.12.2\\lib\\site-packages (from pyro-ppl->pgmpy) (0.1.2)\n",
      "Requirement already satisfied: patsy>=0.5.6 in f:\\laragon\\bin\\python\\python-3.12.2\\lib\\site-packages (from statsmodels->pgmpy) (1.0.1)\n",
      "Collecting llvmlite<0.45,>=0.44.0dev0 (from numba>=0.43.0->apricot-select>=0.6.1->pomegranate)\n",
      "  Downloading llvmlite-0.44.0-cp312-cp312-win_amd64.whl.metadata (5.0 kB)\n",
      "Requirement already satisfied: MarkupSafe>=2.0 in f:\\laragon\\bin\\python\\python-3.12.2\\lib\\site-packages (from jinja2->torch->pgmpy) (2.1.5)\n",
      "Downloading pomegranate-1.1.2-py3-none-any.whl (98 kB)\n",
      "Downloading hmmlearn-0.3.3-cp312-cp312-win_amd64.whl (127 kB)\n",
      "Downloading numba-0.61.2-cp312-cp312-win_amd64.whl (2.8 MB)\n",
      "   ---------------------------------------- 0.0/2.8 MB ? eta -:--:--\n",
      "   --- ------------------------------------ 0.3/2.8 MB ? eta -:--:--\n",
      "   -------------- ------------------------- 1.0/2.8 MB 2.6 MB/s eta 0:00:01\n",
      "   ---------------------- ----------------- 1.6/2.8 MB 2.5 MB/s eta 0:00:01\n",
      "   --------------------------------- ------ 2.4/2.8 MB 3.0 MB/s eta 0:00:01\n",
      "   ---------------------------------------- 2.8/2.8 MB 2.8 MB/s eta 0:00:00\n",
      "Downloading nose-1.3.7-py3-none-any.whl (154 kB)\n",
      "Downloading llvmlite-0.44.0-cp312-cp312-win_amd64.whl (30.3 MB)\n",
      "   ---------------------------------------- 0.0/30.3 MB ? eta -:--:--\n",
      "   - -------------------------------------- 0.8/30.3 MB 4.8 MB/s eta 0:00:07\n",
      "   -- ------------------------------------- 1.8/30.3 MB 4.4 MB/s eta 0:00:07\n",
      "   ---- ----------------------------------- 3.1/30.3 MB 4.9 MB/s eta 0:00:06\n",
      "   ----- ---------------------------------- 4.5/30.3 MB 5.1 MB/s eta 0:00:06\n",
      "   ------- -------------------------------- 5.5/30.3 MB 5.0 MB/s eta 0:00:05\n",
      "   ------- -------------------------------- 6.0/30.3 MB 4.7 MB/s eta 0:00:06\n",
      "   -------- ------------------------------- 6.8/30.3 MB 4.4 MB/s eta 0:00:06\n",
      "   --------- ------------------------------ 7.3/30.3 MB 4.2 MB/s eta 0:00:06\n",
      "   ---------- ----------------------------- 8.1/30.3 MB 3.9 MB/s eta 0:00:06\n",
      "   ----------- ---------------------------- 8.9/30.3 MB 3.8 MB/s eta 0:00:06\n",
      "   ------------ --------------------------- 9.4/30.3 MB 3.7 MB/s eta 0:00:06\n",
      "   ------------- -------------------------- 10.0/30.3 MB 3.6 MB/s eta 0:00:06\n",
      "   ------------- -------------------------- 10.5/30.3 MB 3.6 MB/s eta 0:00:06\n",
      "   -------------- ------------------------- 11.3/30.3 MB 3.5 MB/s eta 0:00:06\n",
      "   --------------- ------------------------ 11.8/30.3 MB 3.4 MB/s eta 0:00:06\n",
      "   --------------- ------------------------ 12.1/30.3 MB 3.4 MB/s eta 0:00:06\n",
      "   ---------------- ----------------------- 12.6/30.3 MB 3.3 MB/s eta 0:00:06\n",
      "   ---------------- ----------------------- 12.8/30.3 MB 3.2 MB/s eta 0:00:06\n",
      "   ----------------- ---------------------- 13.4/30.3 MB 3.1 MB/s eta 0:00:06\n",
      "   ------------------ --------------------- 13.9/30.3 MB 3.1 MB/s eta 0:00:06\n",
      "   ------------------- -------------------- 14.4/30.3 MB 3.0 MB/s eta 0:00:06\n",
      "   ------------------- -------------------- 14.7/30.3 MB 3.0 MB/s eta 0:00:06\n",
      "   -------------------- ------------------- 15.2/30.3 MB 3.0 MB/s eta 0:00:06\n",
      "   --------------------- ------------------ 16.0/30.3 MB 3.0 MB/s eta 0:00:05\n",
      "   --------------------- ------------------ 16.3/30.3 MB 2.9 MB/s eta 0:00:05\n",
      "   ---------------------- ----------------- 16.8/30.3 MB 2.9 MB/s eta 0:00:05\n",
      "   ----------------------- ---------------- 17.6/30.3 MB 2.9 MB/s eta 0:00:05\n",
      "   ----------------------- ---------------- 18.1/30.3 MB 2.9 MB/s eta 0:00:05\n",
      "   ------------------------ --------------- 18.4/30.3 MB 2.9 MB/s eta 0:00:05\n",
      "   ------------------------- -------------- 19.1/30.3 MB 2.9 MB/s eta 0:00:04\n",
      "   -------------------------- ------------- 19.9/30.3 MB 2.9 MB/s eta 0:00:04\n",
      "   -------------------------- ------------- 20.4/30.3 MB 2.9 MB/s eta 0:00:04\n",
      "   ---------------------------- ----------- 21.2/30.3 MB 2.9 MB/s eta 0:00:04\n",
      "   ----------------------------- ---------- 22.0/30.3 MB 2.9 MB/s eta 0:00:03\n",
      "   ------------------------------ --------- 22.8/30.3 MB 2.9 MB/s eta 0:00:03\n",
      "   ------------------------------ --------- 23.3/30.3 MB 3.0 MB/s eta 0:00:03\n",
      "   ------------------------------- -------- 23.9/30.3 MB 3.0 MB/s eta 0:00:03\n",
      "   -------------------------------- ------- 24.4/30.3 MB 2.9 MB/s eta 0:00:03\n",
      "   -------------------------------- ------- 24.9/30.3 MB 2.9 MB/s eta 0:00:02\n",
      "   --------------------------------- ------ 25.4/30.3 MB 2.9 MB/s eta 0:00:02\n",
      "   ---------------------------------- ----- 26.0/30.3 MB 2.9 MB/s eta 0:00:02\n",
      "   ---------------------------------- ----- 26.5/30.3 MB 2.9 MB/s eta 0:00:02\n",
      "   ----------------------------------- ---- 27.0/30.3 MB 2.9 MB/s eta 0:00:02\n",
      "   ------------------------------------ --- 27.5/30.3 MB 2.9 MB/s eta 0:00:01\n",
      "   ------------------------------------- -- 28.3/30.3 MB 2.9 MB/s eta 0:00:01\n",
      "   -------------------------------------- - 28.8/30.3 MB 2.9 MB/s eta 0:00:01\n",
      "   -------------------------------------- - 29.4/30.3 MB 2.8 MB/s eta 0:00:01\n",
      "   ---------------------------------------  29.9/30.3 MB 2.8 MB/s eta 0:00:01\n",
      "   ---------------------------------------  30.1/30.3 MB 2.8 MB/s eta 0:00:01\n",
      "   ---------------------------------------  30.1/30.3 MB 2.8 MB/s eta 0:00:01\n",
      "   ---------------------------------------- 30.3/30.3 MB 2.7 MB/s eta 0:00:00\n",
      "Building wheels for collected packages: apricot-select\n",
      "  Building wheel for apricot-select (setup.py): started\n",
      "  Building wheel for apricot-select (setup.py): finished with status 'done'\n",
      "  Created wheel for apricot-select: filename=apricot_select-0.6.1-py3-none-any.whl size=48773 sha256=a71ff8039a095e2c18464aea84426a20037836c1b0386aed4a0d08a71a123bfe\n",
      "  Stored in directory: c:\\users\\acer\\appdata\\local\\pip\\cache\\wheels\\19\\ce\\18\\f10e7debb348bf14d4ab90c8b657a91a79f1106b699a1121c3\n",
      "Successfully built apricot-select\n",
      "Installing collected packages: nose, llvmlite, numba, hmmlearn, apricot-select, pomegranate\n",
      "Successfully installed apricot-select-0.6.1 hmmlearn-0.3.3 llvmlite-0.44.0 nose-1.3.7 numba-0.61.2 pomegranate-1.1.2\n",
      "Note: you may need to restart the kernel to use updated packages.\n"
     ]
    }
   ],
   "source": [
    "%pip install pandas numpy matplotlib seaborn scikit-learn pgmpy pomegranate hmmlearn networkx"
   ]
  },
  {
   "cell_type": "code",
   "execution_count": 2,
   "id": "c7f421e2",
   "metadata": {},
   "outputs": [
    {
     "ename": "ImportError",
     "evalue": "cannot import name 'K2Score' from 'pgmpy.estimators' (f:\\laragon\\bin\\python\\python-3.12.2\\Lib\\site-packages\\pgmpy\\estimators\\__init__.py)",
     "output_type": "error",
     "traceback": [
      "\u001b[1;31m---------------------------------------------------------------------------\u001b[0m",
      "\u001b[1;31mImportError\u001b[0m                               Traceback (most recent call last)",
      "Cell \u001b[1;32mIn[2], line 15\u001b[0m\n\u001b[0;32m     13\u001b[0m \u001b[38;5;28;01mfrom\u001b[39;00m \u001b[38;5;21;01msklearn\u001b[39;00m\u001b[38;5;21;01m.\u001b[39;00m\u001b[38;5;21;01mlinear_model\u001b[39;00m \u001b[38;5;28;01mimport\u001b[39;00m LinearRegression\n\u001b[0;32m     14\u001b[0m \u001b[38;5;28;01mfrom\u001b[39;00m \u001b[38;5;21;01mpgmpy\u001b[39;00m\u001b[38;5;21;01m.\u001b[39;00m\u001b[38;5;21;01mmodels\u001b[39;00m \u001b[38;5;28;01mimport\u001b[39;00m BayesianNetwork\n\u001b[1;32m---> 15\u001b[0m \u001b[38;5;28;01mfrom\u001b[39;00m \u001b[38;5;21;01mpgmpy\u001b[39;00m\u001b[38;5;21;01m.\u001b[39;00m\u001b[38;5;21;01mestimators\u001b[39;00m \u001b[38;5;28;01mimport\u001b[39;00m HillClimbSearch, K2Score, BayesianEstimator\n\u001b[0;32m     16\u001b[0m \u001b[38;5;66;03m# from pgmpy.estimators import HillClimbSearch, \u001b[39;00m\n\u001b[0;32m     17\u001b[0m \u001b[38;5;28;01mfrom\u001b[39;00m \u001b[38;5;21;01mpgmpy\u001b[39;00m\u001b[38;5;21;01m.\u001b[39;00m\u001b[38;5;21;01minference\u001b[39;00m \u001b[38;5;28;01mimport\u001b[39;00m VariableElimination\n",
      "\u001b[1;31mImportError\u001b[0m: cannot import name 'K2Score' from 'pgmpy.estimators' (f:\\laragon\\bin\\python\\python-3.12.2\\Lib\\site-packages\\pgmpy\\estimators\\__init__.py)"
     ]
    }
   ],
   "source": [
    "# 📦 Instalasi dan Import Library\n",
    "import pandas as pd\n",
    "import numpy as np\n",
    "import seaborn as sns\n",
    "import matplotlib.pyplot as plt\n",
    "from sklearn.preprocessing import LabelEncoder, StandardScaler\n",
    "from sklearn.model_selection import train_test_split\n",
    "from sklearn.naive_bayes import GaussianNB\n",
    "from sklearn.mixture import GaussianMixture\n",
    "from sklearn.metrics import classification_report, mean_squared_error\n",
    "from sklearn.neural_network import MLPClassifier\n",
    "from sklearn.ensemble import RandomForestClassifier\n",
    "from sklearn.linear_model import LinearRegression\n",
    "from pgmpy.models import BayesianNetwork\n",
    "from pgmpy.estimators import HillClimbSearch, K2Score, BayesianEstimator\n",
    "# from pgmpy.estimators import HillClimbSearch, \n",
    "from pgmpy.inference import VariableElimination\n",
    "from hmmlearn import hmm\n",
    "import networkx as nx"
   ]
  },
  {
   "cell_type": "markdown",
   "id": "b7feb6a9",
   "metadata": {},
   "source": [
    "## 📊 Load Dataset & Preprocessing"
   ]
  },
  {
   "cell_type": "code",
   "execution_count": null,
   "id": "65b2bf3c",
   "metadata": {},
   "outputs": [],
   "source": [
    "df = pd.read_csv(\"Student_performance_data_.csv\")\n",
    "# Encode categorical\n",
    "label_encoders = {}\n",
    "for col in ['Gender', 'Ethnicity', 'ParentalEducation', 'Tutoring', 'ParentalSupport', 'Extracurricular', 'Sports', 'Music', 'Volunteering']:\n",
    "    le = LabelEncoder()\n",
    "    df[col] = le.fit_transform(df[col])\n",
    "    label_encoders[col] = le\n",
    "df.fillna(df.mean(numeric_only=True), inplace=True)\n",
    "df.describe()"
   ]
  },
  {
   "cell_type": "markdown",
   "id": "f8110796",
   "metadata": {},
   "source": [
    "## 📈 Visualisasi Korelasi dan Distribusi"
   ]
  },
  {
   "cell_type": "code",
   "execution_count": null,
   "id": "4bb68f00",
   "metadata": {},
   "outputs": [],
   "source": [
    "plt.figure(figsize=(12, 8))\n",
    "sns.heatmap(df.corr(), annot=True, cmap=\"coolwarm\")\n",
    "plt.title(\"Korelasi Antar Variabel\")\n",
    "plt.show()\n",
    "sns.histplot(df['GPA'], kde=True)\n",
    "plt.title(\"Distribusi GPA\")\n",
    "plt.show()\n",
    "sns.countplot(data=df, x='GradeClass')\n",
    "plt.title(\"Distribusi GradeClass\")\n",
    "plt.show()"
   ]
  },
  {
   "cell_type": "markdown",
   "id": "60550fe1",
   "metadata": {},
   "source": [
    "## 🔁 Split Data"
   ]
  },
  {
   "cell_type": "code",
   "execution_count": null,
   "id": "8090f233",
   "metadata": {},
   "outputs": [],
   "source": [
    "X = df.drop(['GPA', 'GradeClass', 'StudentID'], axis=1)\n",
    "y_gpa = df['GPA']\n",
    "y_grade = df['GradeClass']\n",
    "X_train, X_test, y_train_gpa, y_test_gpa = train_test_split(X, y_gpa, test_size=0.2, random_state=42)\n",
    "_, _, y_train_grade, y_test_grade = train_test_split(X, y_grade, test_size=0.2, random_state=42)"
   ]
  },
  {
   "cell_type": "markdown",
   "id": "e1ef7458",
   "metadata": {},
   "source": [
    "## 🧠 Naive Bayes Classifier"
   ]
  },
  {
   "cell_type": "code",
   "execution_count": null,
   "id": "e74c4449",
   "metadata": {},
   "outputs": [],
   "source": [
    "nb = GaussianNB()\n",
    "nb.fit(X_train, y_train_grade)\n",
    "pred_nb = nb.predict(X_test)\n",
    "print(classification_report(y_test_grade, pred_nb))"
   ]
  },
  {
   "cell_type": "markdown",
   "id": "054a31fd",
   "metadata": {},
   "source": [
    "## 📉 Gaussian Mixture Model"
   ]
  },
  {
   "cell_type": "code",
   "execution_count": null,
   "id": "a00d0608",
   "metadata": {},
   "outputs": [],
   "source": [
    "gmm = GaussianMixture(n_components=5, random_state=0)\n",
    "gmm.fit(X_train)\n",
    "pred_gmm = gmm.predict(X_test)"
   ]
  },
  {
   "cell_type": "markdown",
   "id": "5113d856",
   "metadata": {},
   "source": [
    "## 🧠 Probabilistic Neural Network (MLP Approximation)"
   ]
  },
  {
   "cell_type": "code",
   "execution_count": null,
   "id": "20afaf48",
   "metadata": {},
   "outputs": [],
   "source": [
    "mlp = MLPClassifier(hidden_layer_sizes=(100,), max_iter=500, random_state=1)\n",
    "mlp.fit(X_train, y_train_grade)\n",
    "pred_mlp = mlp.predict(X_test)\n",
    "print(classification_report(y_test_grade, pred_mlp))"
   ]
  },
  {
   "cell_type": "markdown",
   "id": "a1ed80f1",
   "metadata": {},
   "source": [
    "## 🔄 Hidden Markov Model"
   ]
  },
  {
   "cell_type": "code",
   "execution_count": null,
   "id": "5efb14f7",
   "metadata": {},
   "outputs": [],
   "source": [
    "model_hmm = hmm.GaussianHMM(n_components=5, covariance_type=\"diag\", n_iter=1000)\n",
    "model_hmm.fit(X_train)\n",
    "hidden_states = model_hmm.predict(X_test)"
   ]
  },
  {
   "cell_type": "markdown",
   "id": "b1f34695",
   "metadata": {},
   "source": [
    "## 📡 Bayesian Network"
   ]
  },
  {
   "cell_type": "code",
   "execution_count": null,
   "id": "365568e1",
   "metadata": {},
   "outputs": [],
   "source": [
    "discretized_df = df.copy()\n",
    "discretized_df['GPA'] = pd.qcut(discretized_df['GPA'], q=5, labels=False)\n",
    "discretized_df['GradeClass'] = discretized_df['GradeClass'].astype(int)\n",
    "hc = HillClimbSearch(discretized_df)\n",
    "model = hc.estimate(scoring_method=BicScore(discretized_df))\n",
    "bn = BayesianNetwork(model.edges())\n",
    "bn.fit(discretized_df, estimator=BayesianEstimator)\n",
    "inference = VariableElimination(bn)\n",
    "q = inference.query(variables=['GradeClass'], evidence={'StudyTimeWeekly': 2, 'Absences': 0})\n",
    "print(q)"
   ]
  },
  {
   "cell_type": "markdown",
   "id": "b61f4758",
   "metadata": {},
   "source": [
    "## 🧠 Random Forest sebagai simulasi MRF"
   ]
  },
  {
   "cell_type": "code",
   "execution_count": null,
   "id": "97e110df",
   "metadata": {},
   "outputs": [],
   "source": [
    "rf = RandomForestClassifier()\n",
    "rf.fit(X_train, y_train_grade)\n",
    "pred_rf = rf.predict(X_test)\n",
    "print(classification_report(y_test_grade, pred_rf))"
   ]
  },
  {
   "cell_type": "markdown",
   "id": "50b7515e",
   "metadata": {},
   "source": [
    "## 📌 Regresi GPA (Linear Regression)"
   ]
  },
  {
   "cell_type": "code",
   "execution_count": null,
   "id": "b83440d3",
   "metadata": {},
   "outputs": [],
   "source": [
    "lr = LinearRegression()\n",
    "lr.fit(X_train, y_train_gpa)\n",
    "gpa_pred = lr.predict(X_test)\n",
    "rmse = np.sqrt(mean_squared_error(y_test_gpa, gpa_pred))\n",
    "print(\"RMSE GPA:\", rmse)"
   ]
  }
 ],
 "metadata": {
  "kernelspec": {
   "display_name": "Python 3",
   "language": "python",
   "name": "python3"
  },
  "language_info": {
   "codemirror_mode": {
    "name": "ipython",
    "version": 3
   },
   "file_extension": ".py",
   "mimetype": "text/x-python",
   "name": "python",
   "nbconvert_exporter": "python",
   "pygments_lexer": "ipython3",
   "version": "3.12.2"
  }
 },
 "nbformat": 4,
 "nbformat_minor": 5
}
