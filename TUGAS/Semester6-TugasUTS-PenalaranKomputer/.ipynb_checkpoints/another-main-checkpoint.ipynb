{
 "cells": [
  {
   "cell_type": "code",
   "execution_count": null,
   "id": "a20f7586-a14a-4ef6-9561-727a6c4a6955",
   "metadata": {},
   "outputs": [],
   "source": [
    "import pandas as pd\n",
    "import numpy as np\n",
    "import matplotlib.pyplot as plt\n",
    "import seaborn as sns"
   ]
  },
  {
   "cell_type": "code",
   "execution_count": null,
   "id": "49f19393-7f64-49b3-8d1c-a3ea27a91e4f",
   "metadata": {},
   "outputs": [],
   "source": [
    "df_raw = pd.read_csv(\"Student_performance_data_.csv\")\n",
    "\n",
    "# Cek 5 baris awal\n",
    "df_raw.head()"
   ]
  },
  {
   "cell_type": "markdown",
   "id": "b02e797c-04e4-4f99-aae9-d65cbc695fbe",
   "metadata": {},
   "source": [
    "Berikut adalah teks"
   ]
  },
  {
   "cell_type": "code",
   "execution_count": null,
   "id": "ba2c39d6-3fd2-471b-a785-d79aa29882ee",
   "metadata": {},
   "outputs": [],
   "source": []
  }
 ],
 "metadata": {
  "kernelspec": {
   "display_name": "Python 3 (ipykernel)",
   "language": "python",
   "name": "python3"
  },
  "language_info": {
   "codemirror_mode": {
    "name": "ipython",
    "version": 3
   },
   "file_extension": ".py",
   "mimetype": "text/x-python",
   "name": "python",
   "nbconvert_exporter": "python",
   "pygments_lexer": "ipython3",
   "version": "3.12.2"
  }
 },
 "nbformat": 4,
 "nbformat_minor": 5
}
